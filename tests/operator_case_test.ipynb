{
 "cells": [
  {
   "cell_type": "code",
   "execution_count": 1,
   "id": "9bf69c1f",
   "metadata": {},
   "outputs": [],
   "source": [
    "import torch\n",
    "import numpy as np\n",
    "import pyvista as pv\n",
    "import Ofpp\n",
    "from utils.visualizer import *\n",
    "pv.set_jupyter_backend('static') \n",
    "\n",
    "import sys\n",
    "import os\n",
    "sys.path.insert(0, r'C:\\Users\\Noahc\\Documents\\USYD\\PHD\\8 - Github\\Torch_VFM')\n",
    "from src.utils.mesh_utils import *\n",
    "from src.utils.data_utils import get_bc_dict\n",
    "from src.gauss_green import gaus_green_vfm_mesh\n",
    "from src.physics.operators import *\n",
    "\n",
    "dtype = torch.float64"
   ]
  },
  {
   "cell_type": "code",
   "execution_count": 2,
   "id": "264cc4c7",
   "metadata": {},
   "outputs": [],
   "source": [
    "def load_case_mesh(dir, bc_dict):\n",
    "    vtk_file_reader = pv.POpenFOAMReader(dir)\n",
    "\n",
    "    # Get Mesh\n",
    "    mesh = gaus_green_vfm_mesh(vtk_file_reader, dtype = dtype, bc_dict=bc_dict)\n",
    "    # if bc_dict is not None:\n",
    "    #     mesh.add_bc_conditions(bc_dict)\n",
    "\n",
    "    # Get Ground Truth Data\n",
    "    vtk_file_reader.set_active_time_value(vtk_file_reader.time_values[-1])\n",
    "    vtk_file_reader.cell_to_point_creation = False\n",
    "    vtk_file_reader.enable_all_patch_arrays()\n",
    "    vtk_mesh = vtk_file_reader.read()[0]\n",
    "    U_gt = torch.tensor(vtk_mesh['U'], dtype = dtype).unsqueeze(0).unsqueeze(0)\n",
    "    return mesh, vtk_mesh, U_gt"
   ]
  },
  {
   "cell_type": "markdown",
   "id": "0a0c2115",
   "metadata": {},
   "source": [
    "## Cavity Case Validation\n",
    "- Orthogonal with no Skew\n",
    "- Solved Purely linear, with no corrections"
   ]
  },
  {
   "cell_type": "code",
   "execution_count": 3,
   "id": "a97b59ad",
   "metadata": {},
   "outputs": [],
   "source": [
    "U_bc_dict = {\n",
    "            'movingWall':{ \"type\":'fixedValue', \"value\":[1,0,0]},\n",
    "            'fixedWalls':{ \"type\":'fixedValue', \"value\":[0,0,0]},  \n",
    "            'frontAndBack':{ \"type\":'empty'}    \n",
    "            }\n",
    "p_bc_dict = {\n",
    "    'movingWall':{ \"type\":'noSlip' },\n",
    "    'fixedWalls':{ \"type\":'noSlip' },  \n",
    "    'frontAndBack':{ \"type\":'empty'}    \n",
    "}\n",
    "bc_dict = {'U':U_bc_dict, 'p':p_bc_dict}\n",
    "\n",
    "nu = 0.01"
   ]
  },
  {
   "cell_type": "markdown",
   "id": "93647b53",
   "metadata": {},
   "source": [
    "Torch FVM solutions"
   ]
  },
  {
   "cell_type": "code",
   "execution_count": 4,
   "id": "0826c447",
   "metadata": {},
   "outputs": [
    {
     "name": "stdout",
     "output_type": "stream",
     "text": [
      "Calculating face centers and areas for 4160 faces\n",
      "{'max_non_orthogonality': 0.0, 'avg_non_orthogonality': 0.0, 'max_skewness': 4.449557669067511e-15, 'avg_skewness': 1.0024919745583159e-15}\n",
      " Found Patch \"movingWall\" with 32 Faces\n",
      " Found Patch \"fixedWalls\" with 96 Faces\n",
      "Boundary faces indexed: 128/2176 patches found\n",
      "Calculating Cell2Cell at Face Linear Interpolation Weights (L2):\n",
      "  min w:0.5000,               max w:0.5000,               mean w:0.5000\n"
     ]
    }
   ],
   "source": [
    "dir = r'C:\\Users\\Noahc\\Documents\\USYD\\tutorial\\cavity_sparse\\case.foam' # works with branch 8b84c8c3920ded25156e8da0475b22fc2a2253bf\n",
    "#dir = r'C:\\Users\\Noahc\\Documents\\USYD\\tutorial\\cavity_128_simple_from_GNOT\\case.foam' \n",
    "mesh, vtk_mesh, U_gt =  load_case_mesh(dir, bc_dict)"
   ]
  },
  {
   "cell_type": "code",
   "execution_count": 5,
   "id": "719fb1e6",
   "metadata": {},
   "outputs": [
    {
     "name": "stdout",
     "output_type": "stream",
     "text": [
      "torch.Size([1, 1, 1024, 1])\n"
     ]
    }
   ],
   "source": [
    "p_gt = torch.tensor(vtk_mesh['p'], dtype = torch.float32).unsqueeze(0).unsqueeze(0).unsqueeze(-1)\n",
    "print(p_gt.shape)"
   ]
  },
  {
   "cell_type": "code",
   "execution_count": 6,
   "id": "bda9c677",
   "metadata": {},
   "outputs": [
    {
     "ename": "RuntimeError",
     "evalue": "index_add_(): self (Float) and source (Double) must have the same scalar type",
     "output_type": "error",
     "traceback": [
      "\u001b[1;31m---------------------------------------------------------------------------\u001b[0m",
      "\u001b[1;31mRuntimeError\u001b[0m                              Traceback (most recent call last)",
      "\u001b[1;32m<ipython-input-6-7ff1fd9e725a>\u001b[0m in \u001b[0;36m<module>\u001b[1;34m\u001b[0m\n\u001b[1;32m----> 1\u001b[1;33m \u001b[0m_\u001b[0m\u001b[1;33m,\u001b[0m \u001b[0mgradp_pred\u001b[0m \u001b[1;33m=\u001b[0m \u001b[0mDivergence_Operator\u001b[0m\u001b[1;33m.\u001b[0m\u001b[0mcaclulate\u001b[0m\u001b[1;33m(\u001b[0m\u001b[0mmesh\u001b[0m\u001b[1;33m,\u001b[0m \u001b[0mfield\u001b[0m\u001b[1;33m=\u001b[0m\u001b[0mp_gt\u001b[0m\u001b[1;33m)\u001b[0m\u001b[1;33m\u001b[0m\u001b[1;33m\u001b[0m\u001b[0m\n\u001b[0m",
      "\u001b[1;32m~\\Documents\\USYD\\PHD\\8 - Github\\Torch_VFM\\src\\physics\\operators.py\u001b[0m in \u001b[0;36mcaclulate\u001b[1;34m(self, field, field_type)\u001b[0m\n\u001b[0;32m     97\u001b[0m         \u001b[0mgrad_field\u001b[0m \u001b[1;33m=\u001b[0m \u001b[0mtorch\u001b[0m\u001b[1;33m.\u001b[0m\u001b[0mzeros\u001b[0m\u001b[1;33m(\u001b[0m\u001b[1;33m(\u001b[0m\u001b[0mbatch_size\u001b[0m\u001b[1;33m,\u001b[0m \u001b[0mtime_size\u001b[0m\u001b[1;33m,\u001b[0m \u001b[0mself\u001b[0m\u001b[1;33m.\u001b[0m\u001b[0mmesh\u001b[0m\u001b[1;33m.\u001b[0m\u001b[0mn_cells\u001b[0m\u001b[1;33m,\u001b[0m \u001b[0mself\u001b[0m\u001b[1;33m.\u001b[0m\u001b[0mmesh\u001b[0m\u001b[1;33m.\u001b[0m\u001b[0mdim\u001b[0m\u001b[1;33m,\u001b[0m \u001b[0mchannel_size\u001b[0m\u001b[1;33m)\u001b[0m\u001b[1;33m,\u001b[0m \u001b[0mdtype\u001b[0m\u001b[1;33m=\u001b[0m\u001b[0mfield\u001b[0m\u001b[1;33m.\u001b[0m\u001b[0mdtype\u001b[0m\u001b[1;33m,\u001b[0m \u001b[0mdevice\u001b[0m\u001b[1;33m=\u001b[0m\u001b[0mself\u001b[0m\u001b[1;33m.\u001b[0m\u001b[0mdevice\u001b[0m\u001b[1;33m)\u001b[0m\u001b[1;33m\u001b[0m\u001b[1;33m\u001b[0m\u001b[0m\n\u001b[0;32m     98\u001b[0m \u001b[1;33m\u001b[0m\u001b[0m\n\u001b[1;32m---> 99\u001b[1;33m         \u001b[0mdiv_field\u001b[0m\u001b[1;33m,\u001b[0m \u001b[0mgrad_field\u001b[0m \u001b[1;33m=\u001b[0m \u001b[0mDivergence_Operator\u001b[0m\u001b[1;33m.\u001b[0m\u001b[0minternal_flux\u001b[0m\u001b[1;33m(\u001b[0m\u001b[0mself\u001b[0m\u001b[1;33m,\u001b[0m \u001b[0mdiv_field\u001b[0m\u001b[1;33m,\u001b[0m \u001b[0mgrad_field\u001b[0m\u001b[1;33m,\u001b[0m \u001b[0mfield\u001b[0m\u001b[1;33m)\u001b[0m\u001b[1;33m\u001b[0m\u001b[1;33m\u001b[0m\u001b[0m\n\u001b[0m\u001b[0;32m    100\u001b[0m         \u001b[0mdiv_field\u001b[0m\u001b[1;33m,\u001b[0m \u001b[0mgrad_field\u001b[0m \u001b[1;33m=\u001b[0m \u001b[0mDivergence_Operator\u001b[0m\u001b[1;33m.\u001b[0m\u001b[0mboundary_flux\u001b[0m\u001b[1;33m(\u001b[0m\u001b[0mself\u001b[0m\u001b[1;33m,\u001b[0m \u001b[0mdiv_field\u001b[0m\u001b[1;33m,\u001b[0m \u001b[0mgrad_field\u001b[0m\u001b[1;33m,\u001b[0m \u001b[0mfield\u001b[0m\u001b[1;33m,\u001b[0m \u001b[0mfield_type\u001b[0m\u001b[1;33m)\u001b[0m\u001b[1;33m\u001b[0m\u001b[1;33m\u001b[0m\u001b[0m\n\u001b[0;32m    101\u001b[0m         \u001b[0mdiv_field\u001b[0m\u001b[1;33m/=\u001b[0m \u001b[0mself\u001b[0m\u001b[1;33m.\u001b[0m\u001b[0mmesh\u001b[0m\u001b[1;33m.\u001b[0m\u001b[0mcell_volumes\u001b[0m\u001b[1;33m.\u001b[0m\u001b[0mreshape\u001b[0m\u001b[1;33m(\u001b[0m\u001b[1;36m1\u001b[0m\u001b[1;33m,\u001b[0m\u001b[1;36m1\u001b[0m\u001b[1;33m,\u001b[0m\u001b[1;33m-\u001b[0m\u001b[1;36m1\u001b[0m\u001b[1;33m,\u001b[0m\u001b[1;36m1\u001b[0m\u001b[1;33m)\u001b[0m\u001b[1;33m\u001b[0m\u001b[1;33m\u001b[0m\u001b[0m\n",
      "\u001b[1;32m~\\Documents\\USYD\\PHD\\8 - Github\\Torch_VFM\\src\\physics\\operators.py\u001b[0m in \u001b[0;36minternal_flux\u001b[1;34m(self, div_field, grad_field, field)\u001b[0m\n\u001b[0;32m    108\u001b[0m         \u001b[0mdivergence\u001b[0m \u001b[1;33m=\u001b[0m \u001b[0mtorch\u001b[0m\u001b[1;33m.\u001b[0m\u001b[0meinsum\u001b[0m\u001b[1;33m(\u001b[0m\u001b[1;34m'btfd,fd->btf'\u001b[0m\u001b[1;33m,\u001b[0m \u001b[0mface_values\u001b[0m\u001b[1;33m,\u001b[0m \u001b[0mself\u001b[0m\u001b[1;33m.\u001b[0m\u001b[0mmesh\u001b[0m\u001b[1;33m.\u001b[0m\u001b[0mface_areas\u001b[0m\u001b[1;33m[\u001b[0m\u001b[0midx\u001b[0m\u001b[1;33m]\u001b[0m\u001b[1;33m)\u001b[0m\u001b[1;33m.\u001b[0m\u001b[0munsqueeze\u001b[0m\u001b[1;33m(\u001b[0m\u001b[1;33m-\u001b[0m\u001b[1;36m1\u001b[0m\u001b[1;33m)\u001b[0m \u001b[1;33m*\u001b[0m \u001b[0mface_values\u001b[0m\u001b[1;33m\u001b[0m\u001b[1;33m\u001b[0m\u001b[0m\n\u001b[0;32m    109\u001b[0m         \u001b[0mgradient\u001b[0m \u001b[1;33m=\u001b[0m \u001b[0mtorch\u001b[0m\u001b[1;33m.\u001b[0m\u001b[0meinsum\u001b[0m\u001b[1;33m(\u001b[0m\u001b[1;34m'btfd,fe->btfed'\u001b[0m\u001b[1;33m,\u001b[0m \u001b[0mface_values\u001b[0m\u001b[1;33m,\u001b[0m \u001b[0mself\u001b[0m\u001b[1;33m.\u001b[0m\u001b[0mmesh\u001b[0m\u001b[1;33m.\u001b[0m\u001b[0mface_areas\u001b[0m\u001b[1;33m[\u001b[0m\u001b[0midx\u001b[0m\u001b[1;33m]\u001b[0m\u001b[1;33m)\u001b[0m\u001b[1;33m\u001b[0m\u001b[1;33m\u001b[0m\u001b[0m\n\u001b[1;32m--> 110\u001b[1;33m         \u001b[0mdiv_field\u001b[0m\u001b[1;33m.\u001b[0m\u001b[0mindex_add_\u001b[0m\u001b[1;33m(\u001b[0m\u001b[1;36m2\u001b[0m\u001b[1;33m,\u001b[0m \u001b[0mself\u001b[0m\u001b[1;33m.\u001b[0m\u001b[0mmesh\u001b[0m\u001b[1;33m.\u001b[0m\u001b[0mface_owners\u001b[0m\u001b[1;33m[\u001b[0m\u001b[0midx\u001b[0m\u001b[1;33m]\u001b[0m\u001b[1;33m,\u001b[0m \u001b[0mdivergence\u001b[0m\u001b[1;33m)\u001b[0m\u001b[1;33m\u001b[0m\u001b[1;33m\u001b[0m\u001b[0m\n\u001b[0m\u001b[0;32m    111\u001b[0m         \u001b[0mdiv_field\u001b[0m\u001b[1;33m.\u001b[0m\u001b[0mindex_add_\u001b[0m\u001b[1;33m(\u001b[0m\u001b[1;36m2\u001b[0m\u001b[1;33m,\u001b[0m \u001b[0mself\u001b[0m\u001b[1;33m.\u001b[0m\u001b[0mmesh\u001b[0m\u001b[1;33m.\u001b[0m\u001b[0mface_neighbors\u001b[0m\u001b[1;33m[\u001b[0m\u001b[0midx\u001b[0m\u001b[1;33m]\u001b[0m\u001b[1;33m,\u001b[0m \u001b[1;33m-\u001b[0m\u001b[0mdivergence\u001b[0m\u001b[1;33m)\u001b[0m\u001b[1;33m\u001b[0m\u001b[1;33m\u001b[0m\u001b[0m\n\u001b[0;32m    112\u001b[0m         \u001b[0mgrad_field\u001b[0m\u001b[1;33m.\u001b[0m\u001b[0mindex_add_\u001b[0m\u001b[1;33m(\u001b[0m\u001b[1;36m2\u001b[0m\u001b[1;33m,\u001b[0m \u001b[0mself\u001b[0m\u001b[1;33m.\u001b[0m\u001b[0mmesh\u001b[0m\u001b[1;33m.\u001b[0m\u001b[0mface_owners\u001b[0m\u001b[1;33m[\u001b[0m\u001b[0midx\u001b[0m\u001b[1;33m]\u001b[0m\u001b[1;33m,\u001b[0m \u001b[0mgradient\u001b[0m\u001b[1;33m)\u001b[0m\u001b[1;33m\u001b[0m\u001b[1;33m\u001b[0m\u001b[0m\n",
      "\u001b[1;31mRuntimeError\u001b[0m: index_add_(): self (Float) and source (Double) must have the same scalar type"
     ]
    }
   ],
   "source": [
    "_, gradp_pred = Divergence_Operator.caclulate(mesh, field=p_gt)"
   ]
  },
  {
   "cell_type": "code",
   "execution_count": null,
   "id": "f500f426",
   "metadata": {},
   "outputs": [],
   "source": [
    "_, gradp_pred = Divergence_Operator.caclulate(mesh, field=p_gt)\n",
    "divU_pred, gradU_pred = Divergence_Operator.caclulate(mesh, field=U_gt)\n",
    "lap_pred = Laplacian_Operator.caclulate(mesh, field=U_gt)*nu"
   ]
  },
  {
   "cell_type": "markdown",
   "id": "97cceddf",
   "metadata": {},
   "source": [
    "Sample solutions"
   ]
  },
  {
   "cell_type": "code",
   "execution_count": null,
   "id": "36e28105",
   "metadata": {},
   "outputs": [],
   "source": [
    "gradU_gt = torch.tensor(vtk_mesh['grad(U)'], dtype = torch.float32).unsqueeze(0).unsqueeze(0)\n",
    "lapU_gt = torch.tensor(vtk_mesh['lapU'], dtype = torch.float32).unsqueeze(0).unsqueeze(0)\n",
    "divU_gt = torch.tensor(vtk_mesh['divU_phiAll'], dtype = torch.float32).unsqueeze(0).unsqueeze(0)\n",
    "divU_corrected_gt = torch.tensor(vtk_mesh['divU'], dtype = torch.float32).unsqueeze(0).unsqueeze(0)\n",
    "gradP_gt = torch.tensor(vtk_mesh['grad(p)'], dtype = torch.float32).unsqueeze(0).unsqueeze(0)"
   ]
  },
  {
   "cell_type": "code",
   "execution_count": null,
   "id": "23d6e70c",
   "metadata": {},
   "outputs": [],
   "source": [
    "names = ['dudx', 'dudy', 'dvdx', 'dvdy']\n",
    "#for i, j in enumerate([0,1,3,4]):\n",
    "for i, j in enumerate([0]):\n",
    "    plot_comparison(vtk_mesh, None, f'Uncorrected_{names[i]}',i=j, interactive = True, point_label=False,\n",
    "                    prediction=gradU_pred.squeeze(0).squeeze(0).numpy(),\n",
    "                    ground_truth = gradU_gt.squeeze(0).squeeze(0).numpy(),\n",
    "                    )"
   ]
  },
  {
   "cell_type": "code",
   "execution_count": null,
   "id": "d33970d0",
   "metadata": {},
   "outputs": [],
   "source": [
    "names = ['divU', 'divV']\n",
    "for i, j in enumerate([0]):\n",
    "    plot_comparison(vtk_mesh, None, f'Uncorrected_{names[i]}',i=j, interactive = True, point_label=False,\n",
    "                    prediction=divU_pred.squeeze(0).squeeze(0).numpy(),\n",
    "                    ground_truth = divU_gt.squeeze(0).squeeze(0).numpy(),\n",
    "                    )"
   ]
  },
  {
   "cell_type": "code",
   "execution_count": null,
   "id": "500c9dd6",
   "metadata": {},
   "outputs": [],
   "source": [
    "names = ['divU', 'divV']\n",
    "for i, j in enumerate([0]):\n",
    "    plot_comparison(vtk_mesh, None, f'Uncorrected_{names[i]}',i=j, interactive = True, point_label=False,\n",
    "                    prediction=divU_pred.squeeze(0).squeeze(0).numpy(),\n",
    "                    ground_truth = divU_corrected_gt.squeeze(0).squeeze(0).numpy(),\n",
    "                    )"
   ]
  },
  {
   "cell_type": "code",
   "execution_count": null,
   "id": "ab48c467",
   "metadata": {},
   "outputs": [],
   "source": [
    "names = ['lapU', 'lapV']\n",
    "for i, j in enumerate([0]):\n",
    "    plot_comparison(vtk_mesh, None, f'Uncorrected_{names[i]}',i=j, interactive = True, point_label=False,\n",
    "                    prediction=lap_pred.squeeze(0).squeeze(0).numpy(),\n",
    "                    ground_truth = lapU_gt.squeeze(0).squeeze(0).numpy(),\n",
    "                    )"
   ]
  },
  {
   "cell_type": "code",
   "execution_count": null,
   "id": "cbf3f553",
   "metadata": {},
   "outputs": [],
   "source": []
  },
  {
   "cell_type": "markdown",
   "id": "4d1df111",
   "metadata": {},
   "source": [
    "## Cylinder Case"
   ]
  },
  {
   "cell_type": "code",
   "execution_count": null,
   "id": "8f7194fa",
   "metadata": {},
   "outputs": [],
   "source": [
    "from src.utils.data_utils import get_bc_dict # default cylinder bc list\n",
    "\n",
    "dir = r'C:\\Users\\Noahc\\Downloads\\c5_test\\case.foam'\n",
    "mesh, vtk_mesh, U_gt =  load_case_mesh(dir, bc_dict=get_bc_dict())\n",
    "nu = 0.013333333333333334"
   ]
  },
  {
   "cell_type": "code",
   "execution_count": null,
   "id": "d9894f32",
   "metadata": {},
   "outputs": [],
   "source": [
    "divU_pred, gradU_pred = Divergence_Operator.caclulate(mesh, field=U_gt)\n",
    "\n",
    "mesh._calculate_correction_vectors(method = mesh.correction_method)\n",
    "lap_pred = Laplacian_Operator.caclulate(mesh, \n",
    "                                        field=U_gt, \n",
    "                                        correction_method=None)*nu\n",
    "lap_pred_corrected = Laplacian_Operator.caclulate(mesh, field=U_gt, \n",
    "                                                  correction_method=mesh.correction_method,\n",
    "                                                  gradient_field=gradU_pred\n",
    "                                                  )*nu"
   ]
  },
  {
   "cell_type": "code",
   "execution_count": null,
   "id": "7008c466",
   "metadata": {},
   "outputs": [],
   "source": [
    "gradU_gt = torch.tensor(vtk_mesh['grad(U)'], dtype = torch.float32).unsqueeze(0).unsqueeze(0)\n",
    "divU_gt = torch.tensor(vtk_mesh['divU'], dtype = torch.float32).unsqueeze(0).unsqueeze(0)\n",
    "lapU_gt = torch.tensor(vtk_mesh['lapU'], dtype = torch.float32).unsqueeze(0).unsqueeze(0)\n",
    "lapU_gt_corrected = torch.tensor(vtk_mesh['lapU_corrected'], dtype = torch.float32).unsqueeze(0).unsqueeze(0)"
   ]
  },
  {
   "cell_type": "code",
   "execution_count": null,
   "id": "500d983e",
   "metadata": {},
   "outputs": [],
   "source": [
    "names = ['dudx', 'dudy', 'dvdx', 'dvdy']\n",
    "#for i, j in enumerate([0,1,3,4]):\n",
    "for i, j in enumerate([0,1]):\n",
    "    plot_comparison(vtk_mesh, None, f'Uncorrected_{names[i]}',i=j, interactive = True, point_label=False,\n",
    "                    prediction=gradU_pred.squeeze(0).squeeze(0).numpy(),\n",
    "                    ground_truth = gradU_gt.squeeze(0).squeeze(0).numpy(),\n",
    "                    zoom=False\n",
    "                    )"
   ]
  },
  {
   "cell_type": "markdown",
   "id": "2022c16e",
   "metadata": {},
   "source": [
    "Note OpenFoam performs a pressure correction loop over phi (as seen below)."
   ]
  },
  {
   "cell_type": "code",
   "execution_count": null,
   "id": "9f3011fc",
   "metadata": {},
   "outputs": [],
   "source": [
    "names = ['divU', 'divV']\n",
    "for i, j in enumerate([0,1]):\n",
    "    plot_comparison(vtk_mesh, None, f'Uncorrected_{names[i]}',i=j, interactive = True, point_label=False,\n",
    "                    prediction=divU_pred.squeeze(0).squeeze(0).numpy(),\n",
    "                    ground_truth = divU_gt.squeeze(0).squeeze(0).numpy(),\n",
    "                    )"
   ]
  },
  {
   "cell_type": "code",
   "execution_count": null,
   "id": "176e348e",
   "metadata": {},
   "outputs": [],
   "source": [
    "divU_gt_uncorrected = torch.tensor(vtk_mesh['divU_phiAll'], dtype = torch.float32).unsqueeze(0).unsqueeze(0)\n",
    "names = ['divU', 'divV']\n",
    "for i, j in enumerate([0,1]):\n",
    "    plot_comparison(vtk_mesh, None, f'Uncorrected_{names[i]}',i=j, interactive = True, point_label=False,\n",
    "                    prediction=divU_pred.squeeze(0).squeeze(0).numpy(),\n",
    "                    ground_truth = divU_gt_uncorrected.squeeze(0).squeeze(0).numpy(),\n",
    "                    )"
   ]
  },
  {
   "cell_type": "markdown",
   "id": "2ec306b7",
   "metadata": {},
   "source": [
    "### Laplacian"
   ]
  },
  {
   "cell_type": "markdown",
   "id": "0e157086",
   "metadata": {},
   "source": [
    "Laplacian has two methods of calculation, corrected and uncorrected. Both methods use the under-relaxed vector discretization."
   ]
  },
  {
   "cell_type": "code",
   "execution_count": null,
   "id": "1fefe06b",
   "metadata": {},
   "outputs": [],
   "source": [
    "names = ['lapU', 'lapV']\n",
    "for i, j in enumerate([0]):\n",
    "    plot_comparison(vtk_mesh, None, f'Uncorrected_{names[i]}',i=j, interactive = True, point_label=False,\n",
    "                    prediction=lap_pred.squeeze(0).squeeze(0).numpy(),\n",
    "                    ground_truth = lapU_gt.squeeze(0).squeeze(0).numpy(),\n",
    "                    zoom=True\n",
    "                    )"
   ]
  },
  {
   "cell_type": "code",
   "execution_count": null,
   "id": "e11a1a55",
   "metadata": {},
   "outputs": [],
   "source": [
    "names = ['lapU', 'lapV']\n",
    "for i, j in enumerate([0]):\n",
    "    plot_comparison(vtk_mesh, None, f'Uncorrected_{names[i]}',i=j, interactive = True, point_label=False,\n",
    "                    prediction=lap_pred_corrected.squeeze(0).squeeze(0).numpy(),\n",
    "                    ground_truth = lapU_gt_corrected.squeeze(0).squeeze(0).numpy(),\n",
    "                    zoom=True\n",
    "                    )"
   ]
  },
  {
   "cell_type": "markdown",
   "id": "b30cdfb4",
   "metadata": {},
   "source": [
    "### Pressure Gradient"
   ]
  },
  {
   "cell_type": "code",
   "execution_count": null,
   "id": "5b6871fa",
   "metadata": {},
   "outputs": [],
   "source": [
    "p = torch.tensor(Ofpp.parse_internal_field(r'C:\\Users\\Noahc\\Downloads\\c5_test\\30.3\\p'), dtype=dtype).unsqueeze(0).unsqueeze(0).unsqueeze(-1)\n",
    "grad_p = Ofpp.parse_internal_field(r'C:\\Users\\Noahc\\Downloads\\c5_test\\30.3\\grad(p)')"
   ]
  },
  {
   "cell_type": "code",
   "execution_count": null,
   "id": "105b94b4",
   "metadata": {},
   "outputs": [],
   "source": [
    "class Divergence_Operator():\n",
    "    \n",
    "    @staticmethod\n",
    "    def caclulate(self, field: torch.Tensor, field_type:str = 'U') -> torch.Tensor:\n",
    "        batch_size = field.shape[0]\n",
    "        time_size = field.shape[1]\n",
    "        channel_size = field.shape[-1]\n",
    "\n",
    "        div_field = torch.zeros((batch_size, time_size, self.mesh.n_cells, self.mesh.dim), dtype=field.dtype, device=self.device)\n",
    "        grad_field = torch.zeros((batch_size, time_size, self.mesh.n_cells, self.mesh.dim, channel_size), dtype=field.dtype, device=self.device)\n",
    "        \n",
    "        div_field, grad_field = Divergence_Operator.internal_flux(self, div_field, grad_field, field)\n",
    "        div_field, grad_field = Divergence_Operator.boundary_flux(self, div_field, grad_field, field, field_type)\n",
    "        div_field/= self.mesh.cell_volumes.reshape(1,1,-1,1)\n",
    "        grad_field/= self.mesh.cell_volumes.reshape(1,1,-1,1,1)\n",
    "        return div_field, grad_field.flatten(start_dim=-2)\n",
    "\n",
    "    def internal_flux(self, div_field:torch.tensor, grad_field:torch.tensor, field:torch.tensor) -> torch.Tensor:\n",
    "        face_values = interpolate_to_faces(self, field)\n",
    "        idx = self.mesh.internal_faces\n",
    "        divergence = torch.einsum('btfd,fd->btf', face_values, self.mesh.face_areas[idx]).unsqueeze(-1) * face_values\n",
    "        gradient = torch.einsum('btfd,fe->btfed', face_values, self.mesh.face_areas[idx])\n",
    "        print(face_values.shape, gradient.shape, grad_field.shape)\n",
    "        div_field.index_add_(2, self.mesh.face_owners[idx], divergence)\n",
    "        div_field.index_add_(2, self.mesh.face_neighbors[idx], -divergence)\n",
    "        print(gradient.shape, grad_field.shape)\n",
    "        grad_field.index_add_(2, self.mesh.face_owners[idx], gradient)\n",
    "        grad_field.index_add_(2, self.mesh.face_neighbors[idx], -gradient)\n",
    "        return div_field, grad_field\n",
    "    \n",
    "    @staticmethod\n",
    "    def boundary_flux(self, div_field:torch.tensor, grad_field:torch.tensor, field:torch.tensor, field_type:str='U') -> torch.Tensor:\n",
    "        batch_size = field.shape[0]\n",
    "        time_size = field.shape[1]\n",
    "        channel_size = field.shape[-1]\n",
    "\n",
    "        for patch_name, patch_faces in self.mesh.patch_face_keys.items():\n",
    "            patch_type = self.bc_conditions[field_type][patch_name]['type']\n",
    "            \n",
    "            if patch_type in ('empty','noSlip'):\n",
    "                continue\n",
    "            if patch_type == 'fixedValue':\n",
    "                field_value = torch.tensor(self.bc_conditions[field_type][patch_name]['value'], dtype=self.dtype, device=self.device)\n",
    "                face_values = field_value.reshape(1, 1, 1, -1).repeat(batch_size, time_size, len(patch_faces), 1)\n",
    "            elif patch_type == 'symmetryPlane':\n",
    "                face_values = field[...,self.mesh.face_owners[patch_faces],:] - 2*(torch.einsum('btfc,fc->btf', \n",
    "                                                                                                field[...,self.mesh.face_owners[patch_faces],:], \n",
    "                                                                                                self.mesh.face_normal_unit_vectors[patch_faces,:]\n",
    "                                                                                                )).unsqueeze(-1) * self.mesh.face_normal_unit_vectors[patch_faces,:].unsqueeze(0)\n",
    "            elif patch_type == 'zeroGradient':\n",
    "                face_values = field[...,self.mesh.face_owners[patch_faces],:]\n",
    "            else:\n",
    "                raise NotImplementedError(f'patch type {patch_type} not implemented')\n",
    "            \n",
    "            divergence = torch.einsum('btfd,fd->btf', face_values, self.mesh.face_areas[patch_faces]).unsqueeze(-1) * face_values\n",
    "            gradient = torch.einsum('btfd,fe->btfed', face_values, self.mesh.face_areas[patch_faces])\n",
    "            \n",
    "            if patch_type == 'symmetryPlane' and channel_size ==1:  # i.e. Scalar\n",
    "                gradient = torch.zeros(batch_size, time_size, len(patch_faces), 1, dtype=self.dtype)\n",
    "\n",
    "            div_field.index_add_(2, self.mesh.face_owners[patch_faces], divergence)\n",
    "            grad_field.index_add_(2, self.mesh.face_owners[patch_faces], gradient)\n",
    "    \n",
    "        return div_field, grad_field"
   ]
  },
  {
   "cell_type": "code",
   "execution_count": null,
   "id": "a749e9f8",
   "metadata": {},
   "outputs": [],
   "source": [
    "_, gradient_p = Divergence_Operator.caclulate(mesh, p, field_type='p')"
   ]
  },
  {
   "cell_type": "code",
   "execution_count": null,
   "id": "8a9b1b1f",
   "metadata": {},
   "outputs": [],
   "source": [
    "plot_comparison(vtk_mesh, None, f'None',i=1, interactive = True, point_label=False,\n",
    "                    prediction=gradient_p[0,0,...].numpy(),\n",
    "                    ground_truth = grad_p,\n",
    "                    clims3=[-0.00001,0.00001],\n",
    "                    zoom=False\n",
    "                    )"
   ]
  }
 ],
 "metadata": {
  "kernelspec": {
   "display_name": "Python 3",
   "language": "python",
   "name": "python3"
  },
  "language_info": {
   "codemirror_mode": {
    "name": "ipython",
    "version": 3
   },
   "file_extension": ".py",
   "mimetype": "text/x-python",
   "name": "python",
   "nbconvert_exporter": "python",
   "pygments_lexer": "ipython3",
   "version": "3.8.5"
  }
 },
 "nbformat": 4,
 "nbformat_minor": 5
}
